{
  "nbformat": 4,
  "nbformat_minor": 0,
  "metadata": {
    "colab": {
      "name": "Tare3.ipynb",
      "provenance": [],
      "collapsed_sections": [],
      "authorship_tag": "ABX9TyP6BWihHqvp89l3Of4t54+d",
      "include_colab_link": true
    },
    "kernelspec": {
      "name": "python3",
      "display_name": "Python 3"
    }
  },
  "cells": [
    {
      "cell_type": "markdown",
      "metadata": {
        "id": "view-in-github",
        "colab_type": "text"
      },
      "source": [
        "<a href=\"https://colab.research.google.com/github/jloroz10/machine_learning/blob/master/Tare3.ipynb\" target=\"_parent\"><img src=\"https://colab.research.google.com/assets/colab-badge.svg\" alt=\"Open In Colab\"/></a>"
      ]
    },
    {
      "cell_type": "markdown",
      "metadata": {
        "id": "iis9TJz88s7X",
        "colab_type": "text"
      },
      "source": [
        "# **Tarea de Modelos No-Lineales y Funciones de Costo**"
      ]
    },
    {
      "cell_type": "code",
      "metadata": {
        "id": "mtBARaeWn5D-",
        "colab_type": "code",
        "colab": {}
      },
      "source": [
        "import numpy as np    # biblioteca para el manejo de vectores y matrices en python.\n",
        "import pandas as pd   # biblioteca para el manejo de datos y tablas.\n",
        "import matplotlib.pyplot as plt   # biblioteca para visualización de datos.\n",
        "import statsmodels.api as sm      # biblioteca para pruebas estadísticas."
      ],
      "execution_count": 82,
      "outputs": []
    },
    {
      "cell_type": "code",
      "metadata": {
        "id": "WkOkkzeZocLi",
        "colab_type": "code",
        "colab": {
          "base_uri": "https://localhost:8080/",
          "height": 34
        },
        "outputId": "01579402-a444-4103-9e0d-ac7cb528f462"
      },
      "source": [
        "from google.colab import drive\n",
        "drive.mount('/content/drive')"
      ],
      "execution_count": 83,
      "outputs": [
        {
          "output_type": "stream",
          "text": [
            "Drive already mounted at /content/drive; to attempt to forcibly remount, call drive.mount(\"/content/drive\", force_remount=True).\n"
          ],
          "name": "stdout"
        }
      ]
    },
    {
      "cell_type": "code",
      "metadata": {
        "id": "XYS8rTSBolJr",
        "colab_type": "code",
        "colab": {}
      },
      "source": [
        "mypath_train = \"/content/drive/My Drive/data/datatrain.csv\"\n",
        "mypath_test = \"/content/drive/My Drive/data/datatest.csv\" "
      ],
      "execution_count": 84,
      "outputs": []
    },
    {
      "cell_type": "code",
      "metadata": {
        "id": "J1Lgx1GtoubS",
        "colab_type": "code",
        "colab": {
          "base_uri": "https://localhost:8080/",
          "height": 197
        },
        "outputId": "ba0a9cd3-ba43-4c7c-e275-44cdce2dbbfe"
      },
      "source": [
        "df_train = pd.read_csv(mypath_train)\n",
        "df_train.head()"
      ],
      "execution_count": 85,
      "outputs": [
        {
          "output_type": "execute_result",
          "data": {
            "text/html": [
              "<div>\n",
              "<style scoped>\n",
              "    .dataframe tbody tr th:only-of-type {\n",
              "        vertical-align: middle;\n",
              "    }\n",
              "\n",
              "    .dataframe tbody tr th {\n",
              "        vertical-align: top;\n",
              "    }\n",
              "\n",
              "    .dataframe thead th {\n",
              "        text-align: right;\n",
              "    }\n",
              "</style>\n",
              "<table border=\"1\" class=\"dataframe\">\n",
              "  <thead>\n",
              "    <tr style=\"text-align: right;\">\n",
              "      <th></th>\n",
              "      <th>xtrain</th>\n",
              "      <th>ytrain</th>\n",
              "    </tr>\n",
              "  </thead>\n",
              "  <tbody>\n",
              "    <tr>\n",
              "      <th>0</th>\n",
              "      <td>1.414141</td>\n",
              "      <td>0.347638</td>\n",
              "    </tr>\n",
              "    <tr>\n",
              "      <th>1</th>\n",
              "      <td>0.040404</td>\n",
              "      <td>0.296082</td>\n",
              "    </tr>\n",
              "    <tr>\n",
              "      <th>2</th>\n",
              "      <td>0.343434</td>\n",
              "      <td>1.353506</td>\n",
              "    </tr>\n",
              "    <tr>\n",
              "      <th>3</th>\n",
              "      <td>1.717172</td>\n",
              "      <td>1.100935</td>\n",
              "    </tr>\n",
              "    <tr>\n",
              "      <th>4</th>\n",
              "      <td>0.101010</td>\n",
              "      <td>0.636017</td>\n",
              "    </tr>\n",
              "  </tbody>\n",
              "</table>\n",
              "</div>"
            ],
            "text/plain": [
              "     xtrain    ytrain\n",
              "0  1.414141  0.347638\n",
              "1  0.040404  0.296082\n",
              "2  0.343434  1.353506\n",
              "3  1.717172  1.100935\n",
              "4  0.101010  0.636017"
            ]
          },
          "metadata": {
            "tags": []
          },
          "execution_count": 85
        }
      ]
    },
    {
      "cell_type": "code",
      "metadata": {
        "id": "GPpYyeJe9Dl5",
        "colab_type": "code",
        "colab": {
          "base_uri": "https://localhost:8080/",
          "height": 197
        },
        "outputId": "9e745777-15cf-4130-bea0-d6386fd0358f"
      },
      "source": [
        "df_test = pd.read_csv(mypath_test)\n",
        "df_test.head()"
      ],
      "execution_count": 86,
      "outputs": [
        {
          "output_type": "execute_result",
          "data": {
            "text/html": [
              "<div>\n",
              "<style scoped>\n",
              "    .dataframe tbody tr th:only-of-type {\n",
              "        vertical-align: middle;\n",
              "    }\n",
              "\n",
              "    .dataframe tbody tr th {\n",
              "        vertical-align: top;\n",
              "    }\n",
              "\n",
              "    .dataframe thead th {\n",
              "        text-align: right;\n",
              "    }\n",
              "</style>\n",
              "<table border=\"1\" class=\"dataframe\">\n",
              "  <thead>\n",
              "    <tr style=\"text-align: right;\">\n",
              "      <th></th>\n",
              "      <th>xtest</th>\n",
              "      <th>ytest</th>\n",
              "    </tr>\n",
              "  </thead>\n",
              "  <tbody>\n",
              "    <tr>\n",
              "      <th>0</th>\n",
              "      <td>0.363636</td>\n",
              "      <td>1.424585</td>\n",
              "    </tr>\n",
              "    <tr>\n",
              "      <th>1</th>\n",
              "      <td>0.525253</td>\n",
              "      <td>1.053235</td>\n",
              "    </tr>\n",
              "    <tr>\n",
              "      <th>2</th>\n",
              "      <td>1.575758</td>\n",
              "      <td>0.266515</td>\n",
              "    </tr>\n",
              "    <tr>\n",
              "      <th>3</th>\n",
              "      <td>1.838384</td>\n",
              "      <td>2.878358</td>\n",
              "    </tr>\n",
              "    <tr>\n",
              "      <th>4</th>\n",
              "      <td>0.989899</td>\n",
              "      <td>-0.184339</td>\n",
              "    </tr>\n",
              "  </tbody>\n",
              "</table>\n",
              "</div>"
            ],
            "text/plain": [
              "      xtest     ytest\n",
              "0  0.363636  1.424585\n",
              "1  0.525253  1.053235\n",
              "2  1.575758  0.266515\n",
              "3  1.838384  2.878358\n",
              "4  0.989899 -0.184339"
            ]
          },
          "metadata": {
            "tags": []
          },
          "execution_count": 86
        }
      ]
    },
    {
      "cell_type": "markdown",
      "metadata": {
        "id": "Bh3g4XXU8BAa",
        "colab_type": "text"
      },
      "source": [
        "**2. Los siguientes incisos se basan en los datos de los archivos que se encuentran en Canvas: datatrain.csv, y datatest.csv. Los datos fueron generados aleatoriamente a partir de la función cúbica y= 5x^3-12.5x^2+7.5x  incluyendo ruido gaussiano con media 0 y desviación estándar 0.5.**"
      ]
    },
    {
      "cell_type": "code",
      "metadata": {
        "id": "O_HX5SUO40lC",
        "colab_type": "code",
        "colab": {
          "base_uri": "https://localhost:8080/",
          "height": 34
        },
        "outputId": "fada1779-b018-41a3-9d34-4d61bcc804c1"
      },
      "source": [
        "df_train.shape"
      ],
      "execution_count": 87,
      "outputs": [
        {
          "output_type": "execute_result",
          "data": {
            "text/plain": [
              "(80, 2)"
            ]
          },
          "metadata": {
            "tags": []
          },
          "execution_count": 87
        }
      ]
    },
    {
      "cell_type": "code",
      "metadata": {
        "id": "Eyqj5ImA4-LY",
        "colab_type": "code",
        "colab": {
          "base_uri": "https://localhost:8080/",
          "height": 287
        },
        "outputId": "fe2da680-3eba-4550-a903-38f5170cc031"
      },
      "source": [
        "df_train.describe()"
      ],
      "execution_count": 88,
      "outputs": [
        {
          "output_type": "execute_result",
          "data": {
            "text/html": [
              "<div>\n",
              "<style scoped>\n",
              "    .dataframe tbody tr th:only-of-type {\n",
              "        vertical-align: middle;\n",
              "    }\n",
              "\n",
              "    .dataframe tbody tr th {\n",
              "        vertical-align: top;\n",
              "    }\n",
              "\n",
              "    .dataframe thead th {\n",
              "        text-align: right;\n",
              "    }\n",
              "</style>\n",
              "<table border=\"1\" class=\"dataframe\">\n",
              "  <thead>\n",
              "    <tr style=\"text-align: right;\">\n",
              "      <th></th>\n",
              "      <th>xtrain</th>\n",
              "      <th>ytrain</th>\n",
              "    </tr>\n",
              "  </thead>\n",
              "  <tbody>\n",
              "    <tr>\n",
              "      <th>count</th>\n",
              "      <td>80.000000</td>\n",
              "      <td>80.000000</td>\n",
              "    </tr>\n",
              "    <tr>\n",
              "      <th>mean</th>\n",
              "      <td>1.014394</td>\n",
              "      <td>0.816098</td>\n",
              "    </tr>\n",
              "    <tr>\n",
              "      <th>std</th>\n",
              "      <td>0.585922</td>\n",
              "      <td>1.280141</td>\n",
              "    </tr>\n",
              "    <tr>\n",
              "      <th>min</th>\n",
              "      <td>0.000000</td>\n",
              "      <td>-1.145724</td>\n",
              "    </tr>\n",
              "    <tr>\n",
              "      <th>25%</th>\n",
              "      <td>0.560606</td>\n",
              "      <td>0.041906</td>\n",
              "    </tr>\n",
              "    <tr>\n",
              "      <th>50%</th>\n",
              "      <td>1.050505</td>\n",
              "      <td>0.577697</td>\n",
              "    </tr>\n",
              "    <tr>\n",
              "      <th>75%</th>\n",
              "      <td>1.500000</td>\n",
              "      <td>1.160240</td>\n",
              "    </tr>\n",
              "    <tr>\n",
              "      <th>max</th>\n",
              "      <td>2.000000</td>\n",
              "      <td>4.906539</td>\n",
              "    </tr>\n",
              "  </tbody>\n",
              "</table>\n",
              "</div>"
            ],
            "text/plain": [
              "          xtrain     ytrain\n",
              "count  80.000000  80.000000\n",
              "mean    1.014394   0.816098\n",
              "std     0.585922   1.280141\n",
              "min     0.000000  -1.145724\n",
              "25%     0.560606   0.041906\n",
              "50%     1.050505   0.577697\n",
              "75%     1.500000   1.160240\n",
              "max     2.000000   4.906539"
            ]
          },
          "metadata": {
            "tags": []
          },
          "execution_count": 88
        }
      ]
    },
    {
      "cell_type": "code",
      "metadata": {
        "id": "PVxQXtXo5KcV",
        "colab_type": "code",
        "colab": {
          "base_uri": "https://localhost:8080/",
          "height": 107
        },
        "outputId": "eb47a303-ca7f-4184-fddd-7f004add4b60"
      },
      "source": [
        "df_train.corr(method='pearson')"
      ],
      "execution_count": 89,
      "outputs": [
        {
          "output_type": "execute_result",
          "data": {
            "text/html": [
              "<div>\n",
              "<style scoped>\n",
              "    .dataframe tbody tr th:only-of-type {\n",
              "        vertical-align: middle;\n",
              "    }\n",
              "\n",
              "    .dataframe tbody tr th {\n",
              "        vertical-align: top;\n",
              "    }\n",
              "\n",
              "    .dataframe thead th {\n",
              "        text-align: right;\n",
              "    }\n",
              "</style>\n",
              "<table border=\"1\" class=\"dataframe\">\n",
              "  <thead>\n",
              "    <tr style=\"text-align: right;\">\n",
              "      <th></th>\n",
              "      <th>xtrain</th>\n",
              "      <th>ytrain</th>\n",
              "    </tr>\n",
              "  </thead>\n",
              "  <tbody>\n",
              "    <tr>\n",
              "      <th>xtrain</th>\n",
              "      <td>1.000000</td>\n",
              "      <td>0.330087</td>\n",
              "    </tr>\n",
              "    <tr>\n",
              "      <th>ytrain</th>\n",
              "      <td>0.330087</td>\n",
              "      <td>1.000000</td>\n",
              "    </tr>\n",
              "  </tbody>\n",
              "</table>\n",
              "</div>"
            ],
            "text/plain": [
              "          xtrain    ytrain\n",
              "xtrain  1.000000  0.330087\n",
              "ytrain  0.330087  1.000000"
            ]
          },
          "metadata": {
            "tags": []
          },
          "execution_count": 89
        }
      ]
    },
    {
      "cell_type": "code",
      "metadata": {
        "id": "lTgplW5l6nJu",
        "colab_type": "code",
        "colab": {}
      },
      "source": [
        "y_train = df_train[['ytrain']]\n",
        "y_test = df_test[['ytest']]"
      ],
      "execution_count": 90,
      "outputs": []
    },
    {
      "cell_type": "markdown",
      "metadata": {
        "id": "03RnB8Yf8dwy",
        "colab_type": "text"
      },
      "source": [
        "  **a. Obtener la gráfica de dispersión de los datos de entrenamiento (train), x vs y.**"
      ]
    },
    {
      "cell_type": "code",
      "metadata": {
        "id": "8PowsVGk7w04",
        "colab_type": "code",
        "colab": {
          "base_uri": "https://localhost:8080/",
          "height": 281
        },
        "outputId": "18aab298-8c63-4e46-b019-766ac277de19"
      },
      "source": [
        "plt.scatter(df_train.loc[:,[\"xtrain\"]],y_train)\n",
        "plt.title(\"x vs y\")\n",
        "plt.show()"
      ],
      "execution_count": 91,
      "outputs": [
        {
          "output_type": "display_data",
          "data": {
            "image/png": "[encoded data removed]",
            "text/plain": [
              "<Figure size 432x288 with 1 Axes>"
            ]
          },
          "metadata": {
            "tags": [],
            "needs_background": "light"
          }
        }
      ]
    },
    {
      "cell_type": "markdown",
      "metadata": {
        "id": "H9Dibaq7833c",
        "colab_type": "text"
      },
      "source": [
        "**b. Obtener la gráfica de dispersión de los datos de prueba (test), x vs y.**"
      ]
    },
    {
      "cell_type": "code",
      "metadata": {
        "id": "ufEu1YFg77-3",
        "colab_type": "code",
        "colab": {
          "base_uri": "https://localhost:8080/",
          "height": 281
        },
        "outputId": "395bdbf2-42ba-4302-d3c6-beaf286f990b"
      },
      "source": [
        "plt.scatter(df_test.loc[:,[\"xtest\"]],y_test)\n",
        "plt.title(\"x vs y\")\n",
        "plt.show()"
      ],
      "execution_count": 92,
      "outputs": [
        {
          "output_type": "display_data",
          "data": {
            "image/png": "[encoded data removed]",
            "text/plain": [
              "<Figure size 432x288 with 1 Axes>"
            ]
          },
          "metadata": {
            "tags": [],
            "needs_background": "light"
          }
        }
      ]
    },
    {
      "cell_type": "markdown",
      "metadata": {
        "id": "yxeJWYwJ9s-K",
        "colab_type": "text"
      },
      "source": [
        "**c. Incluir además la gráfica de la función cúbica 𝑦 = 5𝑥^3− 12.5𝑥^2 + 7.5𝑥 en las dos gráficas anteriores.**"
      ]
    },
    {
      "cell_type": "code",
      "metadata": {
        "id": "Cn2qtIcF4ORV",
        "colab_type": "code",
        "colab": {}
      },
      "source": [
        "def plot_linear_eq(a,b,clr):\n",
        "  x = np.arange(0,2,0.001)\n",
        "  y = [(a*i + b) for i in x]\n",
        "  plt.plot(x,y,label='linear',linestyle='-',color=clr)"
      ],
      "execution_count": 93,
      "outputs": []
    },
    {
      "cell_type": "code",
      "metadata": {
        "id": "-shAGhAKbm-q",
        "colab_type": "code",
        "colab": {}
      },
      "source": [
        "def plot_cubic_eq(a,b,c,d,clr):\n",
        "  x = np.arange(0,2,0.001)\n",
        "  y = [(a*i**3 +b*i**2 + c*i + d) for i in x]\n",
        "  plt.plot(x,y,label='linear',linestyle='-',color=clr)\n"
      ],
      "execution_count": 94,
      "outputs": []
    },
    {
      "cell_type": "markdown",
      "metadata": {
        "id": "1_bPB8dLrfnr",
        "colab_type": "text"
      },
      "source": [
        "**𝑦 = 5𝑥^3− 12.5𝑥^2 + 7.5𝑥 con la grafica con los datos (train)**"
      ]
    },
    {
      "cell_type": "code",
      "metadata": {
        "id": "MTTErgDActul",
        "colab_type": "code",
        "colab": {
          "base_uri": "https://localhost:8080/",
          "height": 281
        },
        "outputId": "c8cae99d-a39e-4798-af12-f0aeb083d194"
      },
      "source": [
        "plot_cubic_eq(5,-12.5,7.5,0,'k')\n",
        "plt.scatter(df_train.loc[:,[\"xtrain\"]],y_train,color='lightseagreen')\n",
        "plt.title(\"x vs y\")\n",
        "plt.show(block=False)"
      ],
      "execution_count": 95,
      "outputs": [
        {
          "output_type": "display_data",
          "data": {
            "image/png": "[encoded data removed]",
            "text/plain": [
              "<Figure size 432x288 with 1 Axes>"
            ]
          },
          "metadata": {
            "tags": [],
            "needs_background": "light"
          }
        }
      ]
    },
    {
      "cell_type": "markdown",
      "metadata": {
        "id": "tesp-9ZDsgQz",
        "colab_type": "text"
      },
      "source": [
        "**𝑦 = 5𝑥^3− 12.5𝑥^2 + 7.5𝑥 con la grafica con los datos (test)**"
      ]
    },
    {
      "cell_type": "code",
      "metadata": {
        "id": "S_LepkZ0sqYL",
        "colab_type": "code",
        "colab": {
          "base_uri": "https://localhost:8080/",
          "height": 281
        },
        "outputId": "2e539d5a-c1c7-4e48-d689-367dc4e462e1"
      },
      "source": [
        "plot_cubic_eq(5,-12.5,7.5,0,'teal')\n",
        "plt.scatter(df_test.loc[:,[\"xtest\"]],y_test,color='burlywood')\n",
        "plt.title(\"x vs y\")\n",
        "plt.show(block=False)"
      ],
      "execution_count": 96,
      "outputs": [
        {
          "output_type": "display_data",
          "data": {
            "image/png": "[encoded data removed]",
            "text/plain": [
              "<Figure size 432x288 with 1 Axes>"
            ]
          },
          "metadata": {
            "tags": [],
            "needs_background": "light"
          }
        }
      ]
    },
    {
      "cell_type": "markdown",
      "metadata": {
        "id": "mlRTkdgIu98M",
        "colab_type": "text"
      },
      "source": [
        "**d. Contestar los sigueintes incisos:**"
      ]
    },
    {
      "cell_type": "markdown",
      "metadata": {
        "id": "GDvRyrOEvk4B",
        "colab_type": "text"
      },
      "source": [
        "**i. Usando los datos de entrenamiento (train), obtener el modelo de regresión lineal 𝑦 = 𝛽0 + 𝛽1X. Interpreta el valor de significancia de cada uno de los coeficientes del modelo obtenidos.**"
      ]
    },
    {
      "cell_type": "code",
      "metadata": {
        "id": "5i4t7JHLvjXH",
        "colab_type": "code",
        "colab": {
          "base_uri": "https://localhost:8080/",
          "height": 265
        },
        "outputId": "55afaab5-7d6b-46da-9783-41a9b5d0db66"
      },
      "source": [
        "x_train = df_train[['xtrain']]\n",
        "y_train = df_train[['ytrain']]\n",
        "xones = sm.add_constant(x_train)\n",
        "print(xones)"
      ],
      "execution_count": 97,
      "outputs": [
        {
          "output_type": "stream",
          "text": [
            "    const    xtrain\n",
            "0     1.0  1.414141\n",
            "1     1.0  0.040404\n",
            "2     1.0  0.343434\n",
            "3     1.0  1.717172\n",
            "4     1.0  0.101010\n",
            "..    ...       ...\n",
            "75    1.0  1.676768\n",
            "76    1.0  1.353535\n",
            "77    1.0  0.505051\n",
            "78    1.0  1.373737\n",
            "79    1.0  0.949495\n",
            "\n",
            "[80 rows x 2 columns]\n"
          ],
          "name": "stdout"
        }
      ]
    },
    {
      "cell_type": "code",
      "metadata": {
        "id": "Ub6GB4Od3ylh",
        "colab_type": "code",
        "colab": {}
      },
      "source": [
        "mimodelo = sm.OLS(y_train, xones).fit()"
      ],
      "execution_count": 98,
      "outputs": []
    },
    {
      "cell_type": "code",
      "metadata": {
        "id": "WB565AOs3zpt",
        "colab_type": "code",
        "colab": {
          "base_uri": "https://localhost:8080/",
          "height": 461
        },
        "outputId": "b104f4cf-0edc-44e0-db78-dadd25355656"
      },
      "source": [
        "print(mimodelo.summary())"
      ],
      "execution_count": 99,
      "outputs": [
        {
          "output_type": "stream",
          "text": [
            "                            OLS Regression Results                            \n",
            "==============================================================================\n",
            "Dep. Variable:                 ytrain   R-squared:                       0.109\n",
            "Model:                            OLS   Adj. R-squared:                  0.098\n",
            "Method:                 Least Squares   F-statistic:                     9.538\n",
            "Date:                Mon, 14 Sep 2020   Prob (F-statistic):            0.00279\n",
            "Time:                        06:42:39   Log-Likelihood:                -128.16\n",
            "No. Observations:                  80   AIC:                             260.3\n",
            "Df Residuals:                      78   BIC:                             265.1\n",
            "Df Model:                           1                                         \n",
            "Covariance Type:            nonrobust                                         \n",
            "==============================================================================\n",
            "                 coef    std err          t      P>|t|      [0.025      0.975]\n",
            "------------------------------------------------------------------------------\n",
            "const          0.0845      0.273      0.309      0.758      -0.459       0.628\n",
            "xtrain         0.7212      0.234      3.088      0.003       0.256       1.186\n",
            "==============================================================================\n",
            "Omnibus:                        9.240   Durbin-Watson:                   2.139\n",
            "Prob(Omnibus):                  0.010   Jarque-Bera (JB):                8.923\n",
            "Skew:                           0.760   Prob(JB):                       0.0115\n",
            "Kurtosis:                       3.605   Cond. No.                         3.80\n",
            "==============================================================================\n",
            "\n",
            "Warnings:\n",
            "[1] Standard Errors assume that the covariance matrix of the errors is correctly specified.\n"
          ],
          "name": "stdout"
        }
      ]
    },
    {
      "cell_type": "markdown",
      "metadata": {
        "id": "5xb3j3lFKisy",
        "colab_type": "text"
      },
      "source": [
        "Despues de analizar los coeficientes se puede observar que los valores obtenidos son malos ya que el p-value de la constante es 0.758 lo cual no es aceptable. El valor de r-square como se muestra en el reporte se puede interpretar como malo ya que la varianza de Y solo se puede interpretar en un 10.9% "
      ]
    },
    {
      "cell_type": "code",
      "metadata": {
        "id": "2jk3M9SuDJ7v",
        "colab_type": "code",
        "colab": {}
      },
      "source": [
        "def plot_linear_eq(m,b,clr):\n",
        "  x = np.arange(0,2,0.001)\n",
        "  y = [(m*i + b) for i in x]\n",
        "  plt.plot(x,y,label='linear',linestyle='-',color=clr)"
      ],
      "execution_count": 100,
      "outputs": []
    },
    {
      "cell_type": "code",
      "metadata": {
        "id": "YmJGiihM4DdP",
        "colab_type": "code",
        "colab": {
          "base_uri": "https://localhost:8080/",
          "height": 281
        },
        "outputId": "5afe8860-ad71-47ea-a369-e160d8307ed2"
      },
      "source": [
        "plot_linear_eq(0.7212,0.0845,'firebrick')\n",
        "plt.title(\"x vs y\")\n",
        "plt.show(block=False)"
      ],
      "execution_count": 101,
      "outputs": [
        {
          "output_type": "display_data",
          "data": {
            "image/png": "[encoded data removed]",
            "text/plain": [
              "<Figure size 432x288 with 1 Axes>"
            ]
          },
          "metadata": {
            "tags": [],
            "needs_background": "light"
          }
        }
      ]
    },
    {
      "cell_type": "markdown",
      "metadata": {
        "id": "DUQ7vWP-IoIS",
        "colab_type": "text"
      },
      "source": [
        "**ii. Incluir la gráfica de dispersión de los datos de entrenamiento, junto con la gráfica de la recta de regresión 𝑦􀷜 obtenida**"
      ]
    },
    {
      "cell_type": "code",
      "metadata": {
        "id": "Fu7q8RgBInj-",
        "colab_type": "code",
        "colab": {
          "base_uri": "https://localhost:8080/",
          "height": 281
        },
        "outputId": "24a2a9a3-ca4a-40ac-8d14-35fc9840c06c"
      },
      "source": [
        "plot_linear_eq(0.7212,0.0845,'firebrick')\n",
        "plt.scatter(df_train.loc[:,[\"xtrain\"]],y_train,color='darkcyan')\n",
        "plt.title(\"x vs y\")\n",
        "plt.show(block=False)"
      ],
      "execution_count": 102,
      "outputs": [
        {
          "output_type": "display_data",
          "data": {
            "image/png": "[encoded data removed]",
            "text/plain": [
              "<Figure size 432x288 with 1 Axes>"
            ]
          },
          "metadata": {
            "tags": [],
            "needs_background": "light"
          }
        }
      ]
    },
    {
      "cell_type": "markdown",
      "metadata": {
        "id": "b9Lt5pF8KaiT",
        "colab_type": "text"
      },
      "source": [
        "**iii. Usando los datos de prueba (test), obtener el valor del error cuadrático\n",
        "medio MSE y el coeficiente de determinación ajustado 𝑅^2.**"
      ]
    },
    {
      "cell_type": "code",
      "metadata": {
        "id": "WkhCVmUDbZVQ",
        "colab_type": "code",
        "colab": {
          "base_uri": "https://localhost:8080/",
          "height": 407
        },
        "outputId": "abc45dfb-936b-4b10-e64f-e886b03c1676"
      },
      "source": [
        "x_test = df_test[['xtest']]\n",
        "y_test = df_test[['ytest']]\n",
        "print(type(x_test))\n",
        "xones2 = sm.add_constant(x_test)\n",
        "print(xones2)"
      ],
      "execution_count": 118,
      "outputs": [
        {
          "output_type": "stream",
          "text": [
            "<class 'pandas.core.frame.DataFrame'>\n",
            "    const     xtest\n",
            "0     1.0  0.363636\n",
            "1     1.0  0.525253\n",
            "2     1.0  1.575758\n",
            "3     1.0  1.838384\n",
            "4     1.0  0.989899\n",
            "5     1.0  0.303030\n",
            "6     1.0  1.878788\n",
            "7     1.0  1.434343\n",
            "8     1.0  1.737374\n",
            "9     1.0  0.444444\n",
            "10    1.0  0.262626\n",
            "11    1.0  0.808081\n",
            "12    1.0  1.050505\n",
            "13    1.0  0.242424\n",
            "14    1.0  1.777778\n",
            "15    1.0  0.909091\n",
            "16    1.0  0.222222\n",
            "17    1.0  1.333333\n",
            "18    1.0  0.404040\n",
            "19    1.0  0.747475\n"
          ],
          "name": "stdout"
        }
      ]
    },
    {
      "cell_type": "code",
      "metadata": {
        "id": "gMHzQimWgA4r",
        "colab_type": "code",
        "colab": {
          "base_uri": "https://localhost:8080/",
          "height": 461
        },
        "outputId": "5727d191-94d1-410b-ae01-6c3b6d60b668"
      },
      "source": [
        "mimodelo2 = sm.OLS(y_test, xones2).fit()\n",
        "print(mimodelo2.summary())"
      ],
      "execution_count": 104,
      "outputs": [
        {
          "output_type": "stream",
          "text": [
            "                            OLS Regression Results                            \n",
            "==============================================================================\n",
            "Dep. Variable:                  ytest   R-squared:                       0.033\n",
            "Model:                            OLS   Adj. R-squared:                 -0.021\n",
            "Method:                 Least Squares   F-statistic:                    0.6137\n",
            "Date:                Mon, 14 Sep 2020   Prob (F-statistic):              0.444\n",
            "Time:                        06:42:39   Log-Likelihood:                -29.165\n",
            "No. Observations:                  20   AIC:                             62.33\n",
            "Df Residuals:                      18   BIC:                             64.32\n",
            "Df Model:                           1                                         \n",
            "Covariance Type:            nonrobust                                         \n",
            "==============================================================================\n",
            "                 coef    std err          t      P>|t|      [0.025      0.975]\n",
            "------------------------------------------------------------------------------\n",
            "const          0.7002      0.466      1.503      0.150      -0.278       1.679\n",
            "xtest          0.3293      0.420      0.783      0.444      -0.554       1.212\n",
            "==============================================================================\n",
            "Omnibus:                        0.818   Durbin-Watson:                   2.969\n",
            "Prob(Omnibus):                  0.664   Jarque-Bera (JB):                0.760\n",
            "Skew:                          -0.220   Prob(JB):                        0.684\n",
            "Kurtosis:                       2.153   Cond. No.                         3.54\n",
            "==============================================================================\n",
            "\n",
            "Warnings:\n",
            "[1] Standard Errors assume that the covariance matrix of the errors is correctly specified.\n"
          ],
          "name": "stdout"
        }
      ]
    },
    {
      "cell_type": "code",
      "metadata": {
        "id": "csJCaWk-g_Yv",
        "colab_type": "code",
        "colab": {
          "base_uri": "https://localhost:8080/",
          "height": 281
        },
        "outputId": "4e58db28-2b1a-497e-bc68-c00ea9c54207"
      },
      "source": [
        "b=mimodelo.params[0]\n",
        "m=mimodelo.params[1]\n",
        "\n",
        "plot_linear_eq(m,b,'firebrick')\n",
        "plt.scatter(df_train.loc[:,[\"xtrain\"]],y_train,color='turquoise')\n",
        "plt.title(\"x vs y\")\n",
        "plt.show(block=False)"
      ],
      "execution_count": 105,
      "outputs": [
        {
          "output_type": "display_data",
          "data": {
            "image/png": "[encoded data removed]",
            "text/plain": [
              "<Figure size 432x288 with 1 Axes>"
            ]
          },
          "metadata": {
            "tags": [],
            "needs_background": "light"
          }
        }
      ]
    },
    {
      "cell_type": "code",
      "metadata": {
        "id": "hpYKrtgd8MqI",
        "colab_type": "code",
        "colab": {
          "base_uri": "https://localhost:8080/",
          "height": 70
        },
        "outputId": "9517b903-703f-43f3-f568-70dc809dc66d"
      },
      "source": [
        "print(mimodelo2.params)"
      ],
      "execution_count": 106,
      "outputs": [
        {
          "output_type": "stream",
          "text": [
            "const    0.700243\n",
            "xtest    0.329297\n",
            "dtype: float64\n"
          ],
          "name": "stdout"
        }
      ]
    },
    {
      "cell_type": "code",
      "metadata": {
        "id": "yywT0I9y9X57",
        "colab_type": "code",
        "colab": {
          "base_uri": "https://localhost:8080/",
          "height": 407
        },
        "outputId": "6a4eb19a-5ba0-4077-8dbe-09838a94f460"
      },
      "source": [
        "print(x_test)\n",
        "print(type(x_test.values.tolist()))"
      ],
      "execution_count": 107,
      "outputs": [
        {
          "output_type": "stream",
          "text": [
            "       xtest\n",
            "0   0.363636\n",
            "1   0.525253\n",
            "2   1.575758\n",
            "3   1.838384\n",
            "4   0.989899\n",
            "5   0.303030\n",
            "6   1.878788\n",
            "7   1.434343\n",
            "8   1.737374\n",
            "9   0.444444\n",
            "10  0.262626\n",
            "11  0.808081\n",
            "12  1.050505\n",
            "13  0.242424\n",
            "14  1.777778\n",
            "15  0.909091\n",
            "16  0.222222\n",
            "17  1.333333\n",
            "18  0.404040\n",
            "19  0.747475\n",
            "<class 'list'>\n"
          ],
          "name": "stdout"
        }
      ]
    },
    {
      "cell_type": "code",
      "metadata": {
        "id": "dQgLcZTZ7EHV",
        "colab_type": "code",
        "colab": {}
      },
      "source": [
        "def get_y_values(m,b,x_data):\n",
        "  x = x_data.loc[:,'xtest'].to_numpy()\n",
        "  ys= [(m*i + b) for i in x]\n",
        "  return ys\n",
        "  "
      ],
      "execution_count": 108,
      "outputs": []
    },
    {
      "cell_type": "code",
      "metadata": {
        "id": "Px7uokxE70Iu",
        "colab_type": "code",
        "colab": {
          "base_uri": "https://localhost:8080/",
          "height": 298
        },
        "outputId": "2594f705-d4a9-46e7-990e-010b5dbe89cf"
      },
      "source": [
        "b = mimodelo2.params[0]\n",
        "m = mimodelo2.params[1]\n",
        "print(m,b)\n",
        "y_gorro=get_y_values(m,b,x_test)\n",
        "# print(y_gorro)\n",
        "plt.scatter(x_test,y_gorro,color='salmon')\n",
        "plt.scatter(x_test,y_test,color='midnightblue')\n",
        "plt.title(\"x vs y\")\n",
        "plt.show(block=False)\n"
      ],
      "execution_count": 109,
      "outputs": [
        {
          "output_type": "stream",
          "text": [
            "0.3292969520527159 0.7002426371035548\n"
          ],
          "name": "stdout"
        },
        {
          "output_type": "display_data",
          "data": {
            "image/png": "[encoded data removed]",
            "text/plain": [
              "<Figure size 432x288 with 1 Axes>"
            ]
          },
          "metadata": {
            "tags": [],
            "needs_background": "light"
          }
        }
      ]
    },
    {
      "cell_type": "code",
      "metadata": {
        "id": "Muy58TZjLHtT",
        "colab_type": "code",
        "colab": {
          "base_uri": "https://localhost:8080/",
          "height": 143
        },
        "outputId": "d56babe4-91ff-4da1-b556-5c521bef1817"
      },
      "source": [
        "print(type(y_gorro))\n",
        "print(y_gorro)\n",
        "y_test_arr = y_test.loc[:,'ytest'].to_numpy()\n",
        "print(y_test_arr)"
      ],
      "execution_count": 110,
      "outputs": [
        {
          "output_type": "stream",
          "text": [
            "<class 'list'>\n",
            "[0.8199869834242868, 0.8732066926440478, 1.2191348040543306, 1.3056168316599286, 1.0262133573506167, 0.8000295922610658, 1.3189217592118418, 1.1725675581165809, 1.2723545132740917, 0.8465968378695188, 0.7867246650384498, 0.9663411841902507, 1.0461707485138376, 0.7800722010978448, 1.2856594408260047, 0.9996035025760879, 0.7734197374865368, 1.1393052397307437, 0.8332919106469028, 0.9463837930270298]\n",
            "[ 1.42458487  1.05323527  0.26651477  2.87835809 -0.1843394   0.68272102\n",
            "  3.09673464 -0.31757353  1.40060558  1.14829903  1.0935675   0.87282894\n",
            " -0.078668    1.35691842  2.53227081 -0.47706215  1.0356331  -0.84780714\n",
            "  1.97977005  1.29500947]\n"
          ],
          "name": "stdout"
        }
      ]
    },
    {
      "cell_type": "code",
      "metadata": {
        "id": "zmEyk9-eKxkS",
        "colab_type": "code",
        "colab": {}
      },
      "source": [
        "def np_calculate_mse(y,y_gorro):\n",
        "  square_values =  np.square(np.subtract(y,y_gorro))\n",
        "  # print(square_values)\n",
        "  MSE = np.square(np.subtract(y,y_gorro)).mean() \n",
        "  # print(MSE)\n",
        "  return MSE\n",
        "\n"
      ],
      "execution_count": 111,
      "outputs": []
    },
    {
      "cell_type": "code",
      "metadata": {
        "id": "7hu306X3RlyR",
        "colab_type": "code",
        "colab": {}
      },
      "source": [
        "def calculate_mse(y,y_gorro):\n",
        "  total = len(y_gorro)\n",
        "  #create dataframe\n",
        "  df = pd.DataFrame(columns=list(['y','y_gorro','subs','squared_value']))\n",
        "\n",
        "  for i in range(total):\n",
        "    subs = y[i] - y_gorro[i]\n",
        "    new_row = {'y':y[i],'y_gorro':y_gorro[i],'subs':subs,'squared_value':subs**2}\n",
        "    df = df.append(new_row, ignore_index=True)  \n",
        "  \n",
        "  # print(df)\n",
        "  # print(df.loc[:,['squared_value']].mean())\n",
        "  MSE = float(df.loc[:,['squared_value']].mean())\n",
        "  return MSE "
      ],
      "execution_count": 112,
      "outputs": []
    },
    {
      "cell_type": "code",
      "metadata": {
        "id": "VHPNcMDfIAgF",
        "colab_type": "code",
        "colab": {
          "base_uri": "https://localhost:8080/",
          "height": 52
        },
        "outputId": "5d34c7b3-f06f-4ea6-ae67-43d9d15c8306"
      },
      "source": [
        "print('numpy: ',np_calculate_mse(y_test_arr,y_gorro))\n",
        "print('calc:  ',calculate_mse(y_test_arr,y_gorro))\n"
      ],
      "execution_count": 113,
      "outputs": [
        {
          "output_type": "stream",
          "text": [
            "numpy:  1.0817787730763668\n",
            "calc:   1.0817787730763668\n"
          ],
          "name": "stdout"
        }
      ]
    },
    {
      "cell_type": "markdown",
      "metadata": {
        "id": "X8vgKuOyWgy3",
        "colab_type": "text"
      },
      "source": [
        "**iv. Repite los incisos i, ii, iii para obtener el modelo de regresión cuadrático: y = B0 + B1x +B2x^2**"
      ]
    },
    {
      "cell_type": "code",
      "metadata": {
        "id": "rTvlzvJcWNG2",
        "colab_type": "code",
        "colab": {
          "base_uri": "https://localhost:8080/",
          "height": 390
        },
        "outputId": "2734226f-720a-4c6c-eeb9-bfeb53805bc2"
      },
      "source": [
        "xones_cuad = xones2.copy()\n",
        "xones_cuad[\"xtest2\"] = np.square(xones2[\"xtest\"])\n",
        "print(xones_cuad)\n",
        "\n"
      ],
      "execution_count": 125,
      "outputs": [
        {
          "output_type": "stream",
          "text": [
            "    const     xtest    xtest2\n",
            "0     1.0  0.363636  0.132231\n",
            "1     1.0  0.525253  0.275890\n",
            "2     1.0  1.575758  2.483012\n",
            "3     1.0  1.838384  3.379655\n",
            "4     1.0  0.989899  0.979900\n",
            "5     1.0  0.303030  0.091827\n",
            "6     1.0  1.878788  3.529844\n",
            "7     1.0  1.434343  2.057341\n",
            "8     1.0  1.737374  3.018468\n",
            "9     1.0  0.444444  0.197531\n",
            "10    1.0  0.262626  0.068973\n",
            "11    1.0  0.808081  0.652995\n",
            "12    1.0  1.050505  1.103561\n",
            "13    1.0  0.242424  0.058770\n",
            "14    1.0  1.777778  3.160494\n",
            "15    1.0  0.909091  0.826446\n",
            "16    1.0  0.222222  0.049383\n",
            "17    1.0  1.333333  1.777778\n",
            "18    1.0  0.404040  0.163249\n",
            "19    1.0  0.747475  0.558718\n"
          ],
          "name": "stdout"
        }
      ]
    },
    {
      "cell_type": "code",
      "metadata": {
        "id": "oDww0F4FbbA1",
        "colab_type": "code",
        "colab": {
          "base_uri": "https://localhost:8080/",
          "height": 478
        },
        "outputId": "958b5a92-43a8-4f66-ce75-0c3f79abeb33"
      },
      "source": [
        "mimodelo3 = sm.OLS(y_test, xones_cuad).fit()\n",
        "print(mimodelo3.summary())"
      ],
      "execution_count": 126,
      "outputs": [
        {
          "output_type": "stream",
          "text": [
            "                            OLS Regression Results                            \n",
            "==============================================================================\n",
            "Dep. Variable:                  ytest   R-squared:                       0.595\n",
            "Model:                            OLS   Adj. R-squared:                  0.548\n",
            "Method:                 Least Squares   F-statistic:                     12.51\n",
            "Date:                Mon, 14 Sep 2020   Prob (F-statistic):           0.000457\n",
            "Time:                        07:04:36   Log-Likelihood:                -20.451\n",
            "No. Observations:                  20   AIC:                             46.90\n",
            "Df Residuals:                      17   BIC:                             49.89\n",
            "Df Model:                           2                                         \n",
            "Covariance Type:            nonrobust                                         \n",
            "==============================================================================\n",
            "                 coef    std err          t      P>|t|      [0.025      0.975]\n",
            "------------------------------------------------------------------------------\n",
            "const          3.0259      0.570      5.308      0.000       1.823       4.229\n",
            "xtest         -6.3726      1.407     -4.530      0.000      -9.341      -3.405\n",
            "xtest2         3.2487      0.668      4.861      0.000       1.839       4.659\n",
            "==============================================================================\n",
            "Omnibus:                        2.361   Durbin-Watson:                   2.087\n",
            "Prob(Omnibus):                  0.307   Jarque-Bera (JB):                1.119\n",
            "Skew:                           0.081   Prob(JB):                        0.571\n",
            "Kurtosis:                       1.852   Cond. No.                         22.0\n",
            "==============================================================================\n",
            "\n",
            "Warnings:\n",
            "[1] Standard Errors assume that the covariance matrix of the errors is correctly specified.\n"
          ],
          "name": "stdout"
        }
      ]
    },
    {
      "cell_type": "code",
      "metadata": {
        "id": "KKTlD1MPboDg",
        "colab_type": "code",
        "colab": {}
      },
      "source": [
        "def get_y_values_cuadratica(b0,b1,b2,x_data):\n",
        "  x = x_data.loc[:,'xtest'].to_numpy()\n",
        "  ys= [(b0+ b1*i+b2*i**2) for i in x]\n",
        "  return ys"
      ],
      "execution_count": 127,
      "outputs": []
    },
    {
      "cell_type": "code",
      "metadata": {
        "id": "S7bG5QbOdtsD",
        "colab_type": "code",
        "colab": {}
      },
      "source": [
        ""
      ],
      "execution_count": null,
      "outputs": []
    },
    {
      "cell_type": "code",
      "metadata": {
        "id": "PEOg3E-fb7qt",
        "colab_type": "code",
        "colab": {
          "base_uri": "https://localhost:8080/",
          "height": 298
        },
        "outputId": "3a2498ec-d70c-446d-f960-5537ca77244e"
      },
      "source": [
        "b0 = mimodelo3.params[0]\n",
        "b1 = mimodelo3.params[1]\n",
        "b2 = mimodelo3.params[2]\n",
        "print(b0,b1,b2)\n",
        "y_gorro=get_y_values_cuadratica(b0,b1,b2,x_test)\n",
        "# print(y_gorro)\n",
        "plt.scatter(x_test,y_gorro,color='lime')\n",
        "plt.scatter(x_test,y_test,color='midnightblue')\n",
        "plt.title(\"x vs y\")\n",
        "plt.show(block=False)"
      ],
      "execution_count": 147,
      "outputs": [
        {
          "output_type": "stream",
          "text": [
            "3.0259199323798107 -6.372637832010861 3.2486998362057227\n"
          ],
          "name": "stdout"
        },
        {
          "output_type": "display_data",
          "data": {
            "image/png": "[encoded data removed]",
            "text/plain": [
              "<Figure size 432x288 with 1 Axes>"
            ]
          },
          "metadata": {
            "tags": [],
            "needs_background": "light"
          }
        }
      ]
    },
    {
      "cell_type": "markdown",
      "metadata": {
        "id": "BmESY3jhcWDg",
        "colab_type": "text"
      },
      "source": [
        "**v. Repite los incisos i, ii, iii para obtener el modelo de regresión cúbico: y = B0 + B1x +B2x^2 +B3x^3.**"
      ]
    },
    {
      "cell_type": "code",
      "metadata": {
        "id": "EVGL_X3acudS",
        "colab_type": "code",
        "colab": {
          "base_uri": "https://localhost:8080/",
          "height": 390
        },
        "outputId": "d41aec33-8cab-44e5-c419-99058d97050b"
      },
      "source": [
        "xones_cub = xones_cuad.copy()\n",
        "xones_cub[\"xtest3\"] = np.multiply(xones_cuad[\"xtest\"],xones_cuad[\"xtest2\"])\n",
        "print(xones_cub)"
      ],
      "execution_count": 149,
      "outputs": [
        {
          "output_type": "stream",
          "text": [
            "    const     xtest    xtest2    xtest3\n",
            "0     1.0  0.363636  0.132231  0.048084\n",
            "1     1.0  0.525253  0.275890  0.144912\n",
            "2     1.0  1.575758  2.483012  3.912625\n",
            "3     1.0  1.838384  3.379655  6.213103\n",
            "4     1.0  0.989899  0.979900  0.970002\n",
            "5     1.0  0.303030  0.091827  0.027826\n",
            "6     1.0  1.878788  3.529844  6.631828\n",
            "7     1.0  1.434343  2.057341  2.950934\n",
            "8     1.0  1.737374  3.018468  5.244206\n",
            "9     1.0  0.444444  0.197531  0.087791\n",
            "10    1.0  0.262626  0.068973  0.018114\n",
            "11    1.0  0.808081  0.652995  0.527672\n",
            "12    1.0  1.050505  1.103561  1.159296\n",
            "13    1.0  0.242424  0.058770  0.014247\n",
            "14    1.0  1.777778  3.160494  5.618656\n",
            "15    1.0  0.909091  0.826446  0.751315\n",
            "16    1.0  0.222222  0.049383  0.010974\n",
            "17    1.0  1.333333  1.777778  2.370370\n",
            "18    1.0  0.404040  0.163249  0.065959\n",
            "19    1.0  0.747475  0.558718  0.417628\n"
          ],
          "name": "stdout"
        }
      ]
    },
    {
      "cell_type": "code",
      "metadata": {
        "id": "vh2o1BhwdiQF",
        "colab_type": "code",
        "colab": {
          "base_uri": "https://localhost:8080/",
          "height": 496
        },
        "outputId": "c71359c9-3f9b-4441-c870-b15b9b16374d"
      },
      "source": [
        "mimodelo4 = sm.OLS(y_test, xones_cub).fit()\n",
        "print(mimodelo4.summary())"
      ],
      "execution_count": 150,
      "outputs": [
        {
          "output_type": "stream",
          "text": [
            "                            OLS Regression Results                            \n",
            "==============================================================================\n",
            "Dep. Variable:                  ytest   R-squared:                       0.898\n",
            "Model:                            OLS   Adj. R-squared:                  0.879\n",
            "Method:                 Least Squares   F-statistic:                     47.13\n",
            "Date:                Mon, 14 Sep 2020   Prob (F-statistic):           3.63e-08\n",
            "Time:                        07:22:36   Log-Likelihood:                -6.6388\n",
            "No. Observations:                  20   AIC:                             21.28\n",
            "Df Residuals:                      16   BIC:                             25.26\n",
            "Df Model:                           3                                         \n",
            "Covariance Type:            nonrobust                                         \n",
            "==============================================================================\n",
            "                 coef    std err          t      P>|t|      [0.025      0.975]\n",
            "------------------------------------------------------------------------------\n",
            "const         -0.5157      0.591     -0.872      0.396      -1.770       0.738\n",
            "xtest         10.1142      2.496      4.052      0.001       4.823      15.405\n",
            "xtest2       -15.8696      2.790     -5.688      0.000     -21.785      -9.955\n",
            "xtest3         6.1783      0.895      6.905      0.000       4.281       8.075\n",
            "==============================================================================\n",
            "Omnibus:                        0.036   Durbin-Watson:                   1.656\n",
            "Prob(Omnibus):                  0.982   Jarque-Bera (JB):                0.224\n",
            "Skew:                          -0.073   Prob(JB):                        0.894\n",
            "Kurtosis:                       2.503   Cond. No.                         167.\n",
            "==============================================================================\n",
            "\n",
            "Warnings:\n",
            "[1] Standard Errors assume that the covariance matrix of the errors is correctly specified.\n"
          ],
          "name": "stdout"
        }
      ]
    },
    {
      "cell_type": "code",
      "metadata": {
        "id": "eYmNfyzrdw4f",
        "colab_type": "code",
        "colab": {}
      },
      "source": [
        "def get_y_values_cubica(b0,b1,b2,b3,x_data):\n",
        "  x = x_data.loc[:,'xtest'].to_numpy()\n",
        "  ys= [(b0+ b1*i+b2*i**2+b3*i**3) for i in x]\n",
        "  return ys"
      ],
      "execution_count": 141,
      "outputs": []
    },
    {
      "cell_type": "code",
      "metadata": {
        "id": "h5-ywU2Bd-OX",
        "colab_type": "code",
        "colab": {
          "base_uri": "https://localhost:8080/",
          "height": 298
        },
        "outputId": "f53f2b04-dd93-4ada-bf53-b1c323ed7843"
      },
      "source": [
        "b0 = mimodelo4.params[0]\n",
        "b1 = mimodelo4.params[1]\n",
        "b2 = mimodelo4.params[2]\n",
        "b3 = mimodelo4.params[3]\n",
        "print(b0,b1,b2,b3)\n",
        "y_gorro=get_y_values_cubica(b0,b1,b2,b3,x_test)\n",
        "# print(y_gorro)\n",
        "plt.scatter(x_test,y_gorro,color='gold')\n",
        "plt.scatter(x_test,y_test,color='midnightblue')\n",
        "plt.title(\"x vs y\")\n",
        "plt.show(block=False)"
      ],
      "execution_count": 148,
      "outputs": [
        {
          "output_type": "stream",
          "text": [
            "-0.5157362149372078 10.114214125175085 -15.869581550148522 6.178257924290669\n"
          ],
          "name": "stdout"
        },
        {
          "output_type": "display_data",
          "data": {
            "image/png": "[encoded data removed]",
            "text/plain": [
              "<Figure size 432x288 with 1 Axes>"
            ]
          },
          "metadata": {
            "tags": [],
            "needs_background": "light"
          }
        }
      ]
    },
    {
      "cell_type": "markdown",
      "metadata": {
        "id": "BH5mgyZrfU07",
        "colab_type": "text"
      },
      "source": [
        "**vi. Repite los incisos i, ii, iii para el modelo de regresión de grado cuatro: y = B0 + B1x +B2x^2 +B3x^3 + B4x^4**"
      ]
    },
    {
      "cell_type": "code",
      "metadata": {
        "id": "G2DiMTmQfT86",
        "colab_type": "code",
        "colab": {
          "base_uri": "https://localhost:8080/",
          "height": 390
        },
        "outputId": "b391dc65-d236-40ce-808b-cc9a45ab6d35"
      },
      "source": [
        "xones_cuarta = xones_cub.copy()\n",
        "xones_cuarta[\"xtest4\"] = np.multiply(xones_cuad[\"xtest2\"],xones_cuad[\"xtest2\"])\n",
        "print(xones_cuarta)"
      ],
      "execution_count": 152,
      "outputs": [
        {
          "output_type": "stream",
          "text": [
            "    const     xtest    xtest2    xtest3     xtest4\n",
            "0     1.0  0.363636  0.132231  0.048084   0.017485\n",
            "1     1.0  0.525253  0.275890  0.144912   0.076115\n",
            "2     1.0  1.575758  2.483012  3.912625   6.165348\n",
            "3     1.0  1.838384  3.379655  6.213103  11.422069\n",
            "4     1.0  0.989899  0.979900  0.970002   0.960204\n",
            "5     1.0  0.303030  0.091827  0.027826   0.008432\n",
            "6     1.0  1.878788  3.529844  6.631828  12.459798\n",
            "7     1.0  1.434343  2.057341  2.950934   4.232652\n",
            "8     1.0  1.737374  3.018468  5.244206   9.111146\n",
            "9     1.0  0.444444  0.197531  0.087791   0.039018\n",
            "10    1.0  0.262626  0.068973  0.018114   0.004757\n",
            "11    1.0  0.808081  0.652995  0.527672   0.426402\n",
            "12    1.0  1.050505  1.103561  1.159296   1.217847\n",
            "13    1.0  0.242424  0.058770  0.014247   0.003454\n",
            "14    1.0  1.777778  3.160494  5.618656   9.988721\n",
            "15    1.0  0.909091  0.826446  0.751315   0.683013\n",
            "16    1.0  0.222222  0.049383  0.010974   0.002439\n",
            "17    1.0  1.333333  1.777778  2.370370   3.160494\n",
            "18    1.0  0.404040  0.163249  0.065959   0.026650\n",
            "19    1.0  0.747475  0.558718  0.417628   0.312166\n"
          ],
          "name": "stdout"
        }
      ]
    },
    {
      "cell_type": "code",
      "metadata": {
        "id": "cnIGGWC0f5Qj",
        "colab_type": "code",
        "colab": {
          "base_uri": "https://localhost:8080/",
          "height": 550
        },
        "outputId": "5a7faea7-bd97-4a5d-9d3a-212e0dd5e8b3"
      },
      "source": [
        "mimodelo5 = sm.OLS(y_test, xones_cuarta).fit()\n",
        "print(mimodelo5.summary())"
      ],
      "execution_count": 153,
      "outputs": [
        {
          "output_type": "stream",
          "text": [
            "                            OLS Regression Results                            \n",
            "==============================================================================\n",
            "Dep. Variable:                  ytest   R-squared:                       0.901\n",
            "Model:                            OLS   Adj. R-squared:                  0.874\n",
            "Method:                 Least Squares   F-statistic:                     34.00\n",
            "Date:                Mon, 14 Sep 2020   Prob (F-statistic):           2.33e-07\n",
            "Time:                        07:24:04   Log-Likelihood:                -6.4078\n",
            "No. Observations:                  20   AIC:                             22.82\n",
            "Df Residuals:                      15   BIC:                             27.79\n",
            "Df Model:                           4                                         \n",
            "Covariance Type:            nonrobust                                         \n",
            "==============================================================================\n",
            "                 coef    std err          t      P>|t|      [0.025      0.975]\n",
            "------------------------------------------------------------------------------\n",
            "const         -1.1448      1.222     -0.937      0.364      -3.750       1.460\n",
            "xtest         13.9733      6.998      1.997      0.064      -0.943      28.890\n",
            "xtest2       -23.0443     12.448     -1.851      0.084     -49.577       3.489\n",
            "xtest3        11.2809      8.667      1.302      0.213      -7.192      29.753\n",
            "xtest4        -1.2210      2.062     -0.592      0.563      -5.616       3.175\n",
            "==============================================================================\n",
            "Omnibus:                        0.334   Durbin-Watson:                   1.614\n",
            "Prob(Omnibus):                  0.846   Jarque-Bera (JB):                0.488\n",
            "Skew:                          -0.095   Prob(JB):                        0.783\n",
            "Kurtosis:                       2.258   Cond. No.                     1.23e+03\n",
            "==============================================================================\n",
            "\n",
            "Warnings:\n",
            "[1] Standard Errors assume that the covariance matrix of the errors is correctly specified.\n",
            "[2] The condition number is large, 1.23e+03. This might indicate that there are\n",
            "strong multicollinearity or other numerical problems.\n"
          ],
          "name": "stdout"
        }
      ]
    },
    {
      "cell_type": "code",
      "metadata": {
        "id": "gXVUHaIsgAZn",
        "colab_type": "code",
        "colab": {}
      },
      "source": [
        "def get_y_values_cuarta(b0,b1,b2,b3,b4,x_data):\n",
        "  x = x_data.loc[:,'xtest'].to_numpy()\n",
        "  ys= [(b0+ b1*i+b2*i**2+b3*i**3+b4*i**4) for i in x]\n",
        "  return ys"
      ],
      "execution_count": 154,
      "outputs": []
    },
    {
      "cell_type": "code",
      "metadata": {
        "id": "-gzatCbQgOFB",
        "colab_type": "code",
        "colab": {
          "base_uri": "https://localhost:8080/",
          "height": 298
        },
        "outputId": "16df11b0-a6ff-4d20-e0a5-bdc35220b0c2"
      },
      "source": [
        "b0 = mimodelo5.params[0]\n",
        "b1 = mimodelo5.params[1]\n",
        "b2 = mimodelo5.params[2]\n",
        "b3 = mimodelo5.params[3]\n",
        "b4 = mimodelo5.params[4]\n",
        "print(b0,b1,b2,b3,b4)\n",
        "y_gorro=get_y_values_cuarta(b0,b1,b2,b3,b4,x_test)\n",
        "# print(y_gorro)\n",
        "plt.scatter(x_test,y_gorro,color='deeppink')\n",
        "plt.scatter(x_test,y_test,color='midnightblue')\n",
        "plt.title(\"x vs y\")\n",
        "plt.show(block=False)"
      ],
      "execution_count": 157,
      "outputs": [
        {
          "output_type": "stream",
          "text": [
            "-1.1447931227638197 13.973307308826332 -23.044325067570007 11.280911883552978 -1.2209690564566102\n"
          ],
          "name": "stdout"
        },
        {
          "output_type": "display_data",
          "data": {
            "image/png": "[encoded data removed]",
            "text/plain": [
              "<Figure size 432x288 with 1 Axes>"
            ]
          },
          "metadata": {
            "tags": [],
            "needs_background": "light"
          }
        }
      ]
    }
  ]
}